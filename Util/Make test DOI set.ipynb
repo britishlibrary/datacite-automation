{
 "cells": [
  {
   "cell_type": "code",
   "execution_count": 1,
   "id": "ffdb7e64-abbb-468e-b13d-f381993c905f",
   "metadata": {},
   "outputs": [
    {
     "name": "stdout",
     "output_type": "stream",
     "text": [
      "Available prefixes:\n",
      "10.80604\n"
     ]
    }
   ],
   "source": [
    "import httpx\n",
    "from faker import Faker\n",
    "from dotenv import load_dotenv\n",
    "from os import getenv\n",
    "\n",
    "load_dotenv()\n",
    "REPO_ID = getenv('REPO_ID')\n",
    "REPO_PW = getenv('REPO_PW')\n",
    "cl = httpx.Client(auth=(REPO_ID, REPO_PW))\n",
    "response = cl.get(f'https://api.test.datacite.org/clients/{REPO_ID.lower()}')\n",
    "client_info = response.json()\n",
    "print(\"Available prefixes:\")\n",
    "print(\"\\n\".join(p['id'] for p in client_info['data']['relationships']['prefixes']['data']))"
   ]
  },
  {
   "cell_type": "code",
   "execution_count": 3,
   "id": "6a6a901a-e2ad-43f8-a2b7-927d8ff1dd24",
   "metadata": {},
   "outputs": [],
   "source": [
    "DOI_COUNT = 2\n",
    "PREFIX = \"10.80604\"\n",
    "PUBLISHER = \"University of Poppleton\"\n",
    "PUB_YEAR = 2021"
   ]
  },
  {
   "cell_type": "code",
   "execution_count": 5,
   "id": "4ee11831-0b55-4066-a0bd-85c4ca52f18b",
   "metadata": {},
   "outputs": [],
   "source": [
    "def make_fake_doi(prefix, publisher, pub_year, fake=Faker()):\n",
    "    return {\n",
    "      \"data\": {\n",
    "        \"type\": \"dois\",\n",
    "        \"attributes\": {\n",
    "          \"event\": \"publish\",\n",
    "          \"prefix\": prefix,\n",
    "          \"creators\": [{\"name\": fake.name()} for _ in range(3)],\n",
    "          \"titles\": [{\n",
    "            \"title\": fake.sentence()\n",
    "          }],\n",
    "          \"publisher\": publisher,\n",
    "          \"publicationYear\": pub_year,\n",
    "          \"types\": {\n",
    "            \"resourceTypeGeneral\": \"Text\"\n",
    "          },\n",
    "          \"url\": fake.url(schemes=('https',)),\n",
    "          \"schemaVersion\": \"http://datacite.org/schema/kernel-4\"\n",
    "        }\n",
    "      }\n",
    "    }\n",
    "\n",
    "test_dois = []\n",
    "for i in range(DOI_COUNT):\n",
    "    params = make_fake_doi(PREFIX, PUBLISHER, PUB_YEAR)\n",
    "    response = cl.post('https://api.test.datacite.org/dois', json=params)\n",
    "    response.raise_for_status()\n",
    "    doi_info = response.json()\n",
    "    new_doi = doi_info['data']['id']\n",
    "    test_dois.append(new_doi)"
   ]
  },
  {
   "cell_type": "code",
   "execution_count": 6,
   "id": "0c1022c6-0946-4485-bd70-a1135176df2a",
   "metadata": {},
   "outputs": [
    {
     "name": "stdout",
     "output_type": "stream",
     "text": [
      "10.80604/sm80-kr73 https://www.oconnor.net/\n",
      "10.80604/vq8z-nt49 https://willis-wilcox.com/\n"
     ]
    }
   ],
   "source": [
    "for doi in test_dois:\n",
    "    response = cl.get(f'https://api.test.datacite.org/dois/{doi}')\n",
    "    response.raise_for_status()\n",
    "    doi_data = response.json()['data']\n",
    "    print(doi_data['id'], doi_data['attributes']['url'])"
   ]
  },
  {
   "cell_type": "code",
   "execution_count": 47,
   "id": "677dfe3a-7123-4d1f-be3d-992c7bd6e49f",
   "metadata": {},
   "outputs": [
    {
     "name": "stdout",
     "output_type": "stream",
     "text": [
      "10.80604/w416-ra46\n",
      "10.80604/jncm-0243\n",
      "10.80604/4emf-pf49\n",
      "10.80604/2jp7-5815\n",
      "10.80604/npm4-f954\n",
      "10.80604/m6xm-en36\n",
      "10.80604/kchb-ya05\n",
      "10.80604/qmbv-p580\n",
      "10.80604/9ns8-9807\n",
      "10.80604/yccs-jw86\n",
      "10.80604/w416-ra46 https://moreno-liu.com/\n",
      "10.80604/jncm-0243 https://chandler.com/\n",
      "10.80604/4emf-pf49 https://www.pena-cooper.com/\n",
      "10.80604/2jp7-5815 https://austin.com/\n",
      "10.80604/npm4-f954 https://www.rojas.com/\n",
      "10.80604/m6xm-en36 https://www.harmon.com/\n",
      "10.80604/kchb-ya05 https://www.roberts.net/\n",
      "10.80604/qmbv-p580 https://www.mitchell.com/\n",
      "10.80604/9ns8-9807 https://cruz.com/\n",
      "10.80604/yccs-jw86 https://serrano.com/\n"
     ]
    }
   ],
   "source": [
    "for doi in test_dois:\n",
    "    print(doi)\n",
    "    update_params = {'data': {'attributes': {'url': fake.url(schemes=('https',))}}}\n",
    "    response = cl.put(f'https://api.test.datacite.org/dois/{doi}', json=update_params)\n",
    "    response.raise_for_status()\n",
    "    \n",
    "for doi in test_dois:\n",
    "    response = cl.get(f'https://api.test.datacite.org/dois/{doi}')\n",
    "    response.raise_for_status()\n",
    "    doi_data = response.json()['data']\n",
    "    print(doi_data['id'], doi_data['attributes']['url'])"
   ]
  }
 ],
 "metadata": {
  "kernelspec": {
   "display_name": "Python 3",
   "language": "python",
   "name": "python3"
  },
  "language_info": {
   "codemirror_mode": {
    "name": "ipython",
    "version": 3
   },
   "file_extension": ".py",
   "mimetype": "text/x-python",
   "name": "python",
   "nbconvert_exporter": "python",
   "pygments_lexer": "ipython3",
   "version": "3.8.9"
  }
 },
 "nbformat": 4,
 "nbformat_minor": 5
}
